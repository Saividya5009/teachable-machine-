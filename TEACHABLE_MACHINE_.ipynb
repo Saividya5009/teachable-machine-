{
  "nbformat": 4,
  "nbformat_minor": 0,
  "metadata": {
    "colab": {
      "name": "TEACHABLE MACHINE .ipynb",
      "provenance": [],
      "authorship_tag": "ABX9TyNn5fiZG2VOEl90Mfhk1PGR",
      "include_colab_link": true
    },
    "kernelspec": {
      "name": "python3",
      "display_name": "Python 3"
    }
  },
  "cells": [
    {
      "cell_type": "markdown",
      "metadata": {
        "id": "view-in-github",
        "colab_type": "text"
      },
      "source": [
        "<a href=\"https://colab.research.google.com/github/Saividya5009/teachable-machine-/blob/main/TEACHABLE_MACHINE_.ipynb\" target=\"_parent\"><img src=\"https://colab.research.google.com/assets/colab-badge.svg\" alt=\"Open In Colab\"/></a>"
      ]
    },
    {
      "cell_type": "code",
      "metadata": {
        "id": "dUradNt2mmFz"
      },
      "source": [
        "<div>Teachable Machine Image Model</div>\r\n",
        "<button type=\"button\" onclick=\"init()\">Start</button>\r\n",
        "<div id=\"webcam-container\"></div>\r\n",
        "<div id=\"label-container\"></div>\r\n",
        "<script src=\"https://cdn.jsdelivr.net/npm/@tensorflow/tfjs@1.3.1/dist/tf.min.js\"></script>\r\n",
        "<script src=\"https://cdn.jsdelivr.net/npm/@teachablemachine/image@0.8/dist/teachablemachine-image.min.js\"></script>\r\n",
        "<script type=\"text/javascript\">\r\n",
        "    // More API functions here:\r\n",
        "    // https://github.com/googlecreativelab/teachablemachine-community/tree/master/libraries/image\r\n",
        "\r\n",
        "    // the link to your model provided by Teachable Machine export panel\r\n",
        "    const URL = \"https://teachablemachine.withgoogle.com/models/IYw8cp9Zy/\";\r\n",
        "\r\n",
        "    let model, webcam, labelContainer, maxPredictions;\r\n",
        "\r\n",
        "    // Load the image model and setup the webcam\r\n",
        "    async function init() {\r\n",
        "        const modelURL = URL + \"model.json\";\r\n",
        "        const metadataURL = URL + \"metadata.json\";\r\n",
        "\r\n",
        "        // load the model and metadata\r\n",
        "        // Refer to tmImage.loadFromFiles() in the API to support files from a file picker\r\n",
        "        // or files from your local hard drive\r\n",
        "        // Note: the pose library adds \"tmImage\" object to your window (window.tmImage)\r\n",
        "        model = await tmImage.load(modelURL, metadataURL);\r\n",
        "        maxPredictions = model.getTotalClasses();\r\n",
        "\r\n",
        "        // Convenience function to setup a webcam\r\n",
        "        const flip = true; // whether to flip the webcam\r\n",
        "        webcam = new tmImage.Webcam(200, 200, flip); // width, height, flip\r\n",
        "        await webcam.setup(); // request access to the webcam\r\n",
        "        await webcam.play();\r\n",
        "        window.requestAnimationFrame(loop);\r\n",
        "\r\n",
        "        // append elements to the DOM\r\n",
        "        document.getElementById(\"webcam-container\").appendChild(webcam.canvas);\r\n",
        "        labelContainer = document.getElementById(\"label-container\");\r\n",
        "        for (let i = 0; i < maxPredictions; i++) { // and class labels\r\n",
        "            labelContainer.appendChild(document.createElement(\"div\"));\r\n",
        "        }\r\n",
        "    }\r\n",
        "\r\n",
        "    async function loop() {\r\n",
        "        webcam.update(); // update the webcam frame\r\n",
        "        await predict();\r\n",
        "        window.requestAnimationFrame(loop);\r\n",
        "    }\r\n",
        "\r\n",
        "    // run the webcam image through the image model\r\n",
        "    async function predict() {\r\n",
        "        // predict can take in an image, video or canvas html element\r\n",
        "        const prediction = await model.predict(webcam.canvas);\r\n",
        "        for (let i = 0; i < maxPredictions; i++) {\r\n",
        "            const classPrediction =\r\n",
        "                prediction[i].className + \": \" + prediction[i].probability.toFixed(2);\r\n",
        "            labelContainer.childNodes[i].innerHTML = classPrediction;\r\n",
        "        }\r\n",
        "    }\r\n",
        "</script>\r\n"
      ],
      "execution_count": null,
      "outputs": []
    }
  ]
}